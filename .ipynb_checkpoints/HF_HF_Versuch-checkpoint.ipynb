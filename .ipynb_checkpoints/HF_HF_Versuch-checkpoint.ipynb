{
 "cells": [
  {
   "cell_type": "markdown",
   "id": "e3a48b5a",
   "metadata": {
    "toc": true
   },
   "source": [
    "<h1>Table of Contents<span class=\"tocSkip\"></span></h1>\n",
    "<div class=\"toc\"><ul class=\"toc-item\"><li><span><a href=\"#A-tool-to-visualize-trajectory-frames:-ViewManager\" data-toc-modified-id=\"A-tool-to-visualize-trajectory-frames:-ViewManager-1\"><span class=\"toc-item-num\">1&nbsp;&nbsp;</span>A tool to visualize trajectory frames: ViewManager</a></span><ul class=\"toc-item\"><li><span><a href=\"#Example---show-all-neighbours-of-a-structure\" data-toc-modified-id=\"Example---show-all-neighbours-of-a-structure-1.1\"><span class=\"toc-item-num\">1.1&nbsp;&nbsp;</span>Example - show all neighbours of a structure</a></span></li><li><span><a href=\"#Example---show-PT-structures-with-5-largest-and-5-smallest-potential-energies\" data-toc-modified-id=\"Example---show-PT-structures-with-5-largest-and-5-smallest-potential-energies-1.2\"><span class=\"toc-item-num\">1.2&nbsp;&nbsp;</span>Example - show PT structures with 5 largest and 5 smallest potential energies</a></span></li><li><span><a href=\"#Example---plot-an-eigenvector-of-SqRA\" data-toc-modified-id=\"Example---plot-an-eigenvector-of-SqRA-1.3\"><span class=\"toc-item-num\">1.3&nbsp;&nbsp;</span>Example - plot an eigenvector of SqRA</a></span></li></ul></li><li><span><a href=\"#Classify-full-trajectories-in-cells-of-FullGrid\" data-toc-modified-id=\"Classify-full-trajectories-in-cells-of-FullGrid-2\"><span class=\"toc-item-num\">2&nbsp;&nbsp;</span>Classify full trajectories in cells of FullGrid</a></span></li><li><span><a href=\"#Assigning-trajectories-to-a-FullGrid-cell\" data-toc-modified-id=\"Assigning-trajectories-to-a-FullGrid-cell-3\"><span class=\"toc-item-num\">3&nbsp;&nbsp;</span>Assigning trajectories to a FullGrid cell</a></span><ul class=\"toc-item\"><li><span><a href=\"#Test:-assigning-PT-to-a-FullGrid\" data-toc-modified-id=\"Test:-assigning-PT-to-a-FullGrid-3.1\"><span class=\"toc-item-num\">3.1&nbsp;&nbsp;</span>Test: assigning PT to a FullGrid</a></span></li><li><span><a href=\"#Assigning-a-real-trajectory-fo-a-FullGrid\" data-toc-modified-id=\"Assigning-a-real-trajectory-fo-a-FullGrid-3.2\"><span class=\"toc-item-num\">3.2&nbsp;&nbsp;</span>Assigning a real trajectory fo a FullGrid</a></span></li></ul></li></ul></div>"
   ]
  },
  {
   "cell_type": "code",
   "execution_count": 1,
   "id": "e85827c2",
   "metadata": {
    "ExecuteTime": {
     "end_time": "2024-01-22T13:29:31.796734Z",
     "start_time": "2024-01-22T13:29:31.770484Z"
    }
   },
   "outputs": [],
   "source": [
    "import sys\n",
    "import os\n",
    "\n",
    "try:\n",
    "    os.chdir(r\"/home/hanaz63/PAPER_MOLECULAR_ROTATIONS_2022/nobackup/molgri\")\n",
    "    sys.path.append(r\"/home/hanaz63/PAPER_MOLECULAR_ROTATIONS_2022/nobackup\")\n",
    "except FileNotFoundError:\n",
    "    os.chdir(r\"D:\\HANA\\phD\\PAPER_2022\\molecularRotationalGrids\")\n",
    "    sys.path.append(r\"D:\\HANA\\phD\\PAPER_2022\\molecularRotationalGrids\")\n",
    "    \n",
    "import warnings\n",
    "warnings.filterwarnings(\"ignore\")"
   ]
  },
  {
   "cell_type": "code",
   "execution_count": 2,
   "id": "4faea6b1",
   "metadata": {
    "ExecuteTime": {
     "end_time": "2024-01-22T13:29:34.293184Z",
     "start_time": "2024-01-22T13:29:32.347962Z"
    }
   },
   "outputs": [
    {
     "data": {
      "application/vnd.jupyter.widget-view+json": {
       "model_id": "0c15ee8c5d0e40ae8334f811a43468eb",
       "version_major": 2,
       "version_minor": 0
      },
      "text/plain": []
     },
     "metadata": {},
     "output_type": "display_data"
    }
   ],
   "source": [
    "import nglview as nv\n",
    "import MDAnalysis as mda\n",
    "import numpy as np\n",
    "import time\n",
    "from scipy.sparse import csr_array\n",
    "from numpy.typing import NDArray\n",
    "import matplotlib\n",
    "import pandas as pd\n",
    "import matplotlib.pyplot as plt\n",
    "from IPython.core.display import display\n",
    "\n",
    "from molgri.molecules.transitions import SimulationHistogram, MSM, SQRA\n",
    "from molgri.plotting.molecule_plots import TrajectoryPlot\n",
    "from molgri.molecules.parsers import FileParser, ParsedEnergy, XVGParser\n",
    "from molgri.paths import PATH_OUTPUT_PT, PATH_OUTPUT_LOGGING, PATH_OUTPUT_ENERGIES\n",
    "from molgri.space.fullgrid import FullGrid\n",
    "from molgri.space.utils import k_argmin_in_array, k_argmax_in_array\n",
    "from molgri.plotting.widgets import ViewManager, sync_all_views, display_all_views"
   ]
  },
  {
   "cell_type": "markdown",
   "id": "bca5f16f",
   "metadata": {},
   "source": [
    "## A tool to visualize trajectory frames: ViewManager\n",
    "\n",
    "- in Jupyter, using nglview\n",
    "- input: mda.Universe and one or more indices along the trajectory\n",
    "- output: frames plotted sequentially or overlapping, color/opacity indicating a property, moving simutanously"
   ]
  },
  {
   "cell_type": "code",
   "execution_count": 10,
   "id": "7083feac",
   "metadata": {
    "ExecuteTime": {
     "end_time": "2024-01-22T14:10:54.076709Z",
     "start_time": "2024-01-22T14:10:53.792942Z"
    }
   },
   "outputs": [],
   "source": [
    "fg_assigning = FullGrid(\"8\", \"12\", \"linspace(0.2, 1, 5)\")\n",
    "sh_pt = SimulationHistogram(\"H2O_H2O_0179\", is_pt=True, second_molecule_selection=\"bynum 4:6\",\n",
    "                           full_grid=fg_assigning)\n",
    "\n",
    "sh_traj = SimulationHistogram(\"H2O_H2O_0095_2000\", is_pt=False, second_molecule_selection=\"bynum 4:6\",\n",
    "                             full_grid=fg_assigning)"
   ]
  },
  {
   "cell_type": "markdown",
   "id": "121ed7db",
   "metadata": {},
   "source": [
    "### Example - show all neighbours of a structure"
   ]
  },
  {
   "cell_type": "code",
   "execution_count": 12,
   "id": "4efebf74",
   "metadata": {
    "ExecuteTime": {
     "end_time": "2024-01-22T14:13:35.441128Z",
     "start_time": "2024-01-22T14:11:59.957121Z"
    },
    "scrolled": false
   },
   "outputs": [
    {
     "data": {
      "application/vnd.jupyter.widget-view+json": {
       "model_id": "1ef9d3e7fe71483ea6a29594cbc7738c",
       "version_major": 2,
       "version_minor": 0
      },
      "text/plain": [
       "Box(children=(NGLWidget(layout=Layout(width='200px')), NGLWidget(layout=Layout(width='200px')), NGLWidget(layo…"
      ]
     },
     "metadata": {},
     "output_type": "display_data"
    },
    {
     "name": "stdout",
     "output_type": "stream",
     "text": [
      "[  40   52   59   61   70   79  996 1167 1177 1195 1280 1292 1297 1299\n",
      " 1368 1372 1390   84  100  103  113  118 1004 1022 1028 1029 1033 1038\n",
      " 1138 1140 1142 1143 1158 1206 1393  165  172  181  186  645 1245 1253\n",
      " 1254 1270 1645 1648 1652 1665 1679  200  230  233  235  518  528  540\n",
      "  543  550 1310 1313  201  214  221  222  519  541  542  545  547 1266\n",
      " 1279 1308  206  217  223  237  517  526  537  539  555  556  557 1263\n",
      " 1286 1317  202  211  227  232  531  533  534  544 1264 1305 1312  241\n",
      "  254  262  274  521  554  654  661  666  674 1100 1102 1107 1114 1121\n",
      "  444  448  456  463  470  486  490  495  503  510  924 1324 1330 1335\n",
      " 1343 1350 1404 1408 1425 1430 1887 1893 1908 1909 1911 1916 2182 2196\n",
      " 2207 2229 2927 2933 2948 2967 2991 2995 3567 3573 3588 3589 3591 3596\n",
      " 3876 3887 3909 3911 4607 4622 4647 4669 4671 4675]\n"
     ]
    },
    {
     "data": {
      "application/vnd.jupyter.widget-view+json": {
       "model_id": "396b80fa36ea4817a31550c5de4aa1d0",
       "version_major": 2,
       "version_minor": 0
      },
      "text/plain": [
       "NGLWidget(layout=Layout(width='400px'))"
      ]
     },
     "metadata": {},
     "output_type": "display_data"
    },
    {
     "data": {
      "text/plain": [
       "None"
      ]
     },
     "metadata": {},
     "output_type": "display_data"
    }
   ],
   "source": [
    "# EXAMPLE - neighbours\n",
    "\n",
    "# display the structure assigned to cell 42\n",
    "vm = ViewManager(sh_pt.trajectory_universe)\n",
    "view1 = vm.plot_frames_overlapping(np.where(sh_pt.get_full_assignments==42))\n",
    "view1.layout.width = \"400px\"\n",
    "\n",
    "\n",
    "\n",
    "# display its neighbours\n",
    "vm.fresh_view()\n",
    "view2 = vm.plot_frames_sequential(sh_pt.get_indices_neighbours_of_cell_i(42))\n",
    "print(sh_pt.get_indices_neighbours_of_cell_i(42))\n",
    "\n",
    "display(view1)\n",
    "display(view2)"
   ]
  },
  {
   "cell_type": "markdown",
   "id": "b99245ca",
   "metadata": {},
   "source": [
    "### Example - show PT structures with 5 largest and 5 smallest potential energies"
   ]
  },
  {
   "cell_type": "code",
   "execution_count": 8,
   "id": "ff040dba",
   "metadata": {
    "ExecuteTime": {
     "end_time": "2024-01-22T12:06:53.070830Z",
     "start_time": "2024-01-22T12:06:43.950238Z"
    },
    "code_folding": [
     13
    ]
   },
   "outputs": [
    {
     "data": {
      "application/vnd.jupyter.widget-view+json": {
       "model_id": "560c406b00874d718fb41bdc9ee3b880",
       "version_major": 2,
       "version_minor": 0
      },
      "text/plain": [
       "Box(children=(NGLWidget(), NGLWidget()), layout=Layout(display='inline-flex', flex_flow='row wrap', width='100…"
      ]
     },
     "metadata": {},
     "output_type": "display_data"
    }
   ],
   "source": [
    "# EXAMPLE - \n",
    "\n",
    "\n",
    "# display\n",
    "vm = ViewManager(sh_pt.trajectory_universe)\n",
    "vm.fresh_view()\n",
    "\n",
    "# magnitudes\n",
    "magnitudes = sh_pt.get_magnitude_energy(\"Potential\")\n",
    "\n",
    "\n",
    "# 5 structures with largest energies\n",
    "num_extremes = 5\n",
    "argmax_index = k_argmax_in_array(magnitudes, num_extremes)\n",
    "vm.set_color_magnitude(magnitudes)\n",
    "view1 = vm.plot_frames_overlapping(argmax_index, opacities=0.5)\n",
    "\n",
    "# 5 structures with smallest energies\n",
    "vm.fresh_view()\n",
    "argmin_index = k_argmin_in_array(magnitudes, num_extremes)\n",
    "vm.set_color_magnitude(magnitudes)\n",
    "view2 = vm.plot_frames_overlapping(argmin_index, opacities=0.5)\n",
    "\n",
    "# show both\n",
    "sync_all_views([view1, view2])\n",
    "display_all_views([view1, view2])"
   ]
  },
  {
   "cell_type": "markdown",
   "id": "4b67e522",
   "metadata": {},
   "source": [
    "### Example - plot an eigenvector of SqRA"
   ]
  },
  {
   "cell_type": "code",
   "execution_count": null,
   "id": "60f0735c",
   "metadata": {
    "ExecuteTime": {
     "start_time": "2024-01-22T14:19:31.854Z"
    }
   },
   "outputs": [],
   "source": [
    "# EXAMPLE - eigenvector\n",
    "\n",
    "# display\n",
    "vm = ViewManager(sh_pt.trajectory_universe)\n",
    "vm.fresh_view()\n",
    "\n",
    "# magnitudes\n",
    "#mch = MplColorHelper()\n",
    "magnitudes = sh_pt.get_magnitude_ith_eigenvector(0)\n",
    "vm.set_opacity_magnitude(magnitudes)\n",
    "\n",
    "\n",
    "\n",
    "# 5 largest, 5 smallest\n",
    "num_extremes = 5\n",
    "argmin_index = k_argmin_in_array(magnitudes, num_extremes)\n",
    "argmax_index = k_argmax_in_array(magnitudes, num_extremes)\n",
    "both_index = [*argmax_index, *argmin_index]\n",
    "\n",
    "print(vm.current_opacities[both_index])\n",
    "\n",
    "vm.plot_frames_overlapping(both_index)\n",
    "vm.view"
   ]
  },
  {
   "cell_type": "markdown",
   "id": "ad162eec",
   "metadata": {},
   "source": [
    "## Classify full trajectories in cells of FullGrid"
   ]
  },
  {
   "cell_type": "code",
   "execution_count": 21,
   "id": "df2530ca",
   "metadata": {
    "ExecuteTime": {
     "end_time": "2024-01-22T14:22:59.059733Z",
     "start_time": "2024-01-22T14:22:58.996250Z"
    }
   },
   "outputs": [
    {
     "name": "stdout",
     "output_type": "stream",
     "text": [
      "Unexpected exception formatting exception. Falling back to standard exception\n"
     ]
    },
    {
     "name": "stderr",
     "output_type": "stream",
     "text": [
      "Traceback (most recent call last):\n",
      "  File \"C:\\Users\\Hana\\AppData\\Local\\Programs\\Python\\Python39\\lib\\site-packages\\IPython\\core\\interactiveshell.py\", line 3508, in run_code\n",
      "    exec(code_obj, self.user_global_ns, self.user_ns)\n",
      "  File \"C:\\Users\\Hana\\AppData\\Local\\Temp\\ipykernel_16460\\1841236159.py\", line 5, in <module>\n",
      "    vm.plot_frames_overlapping(sh_traj.get_indices_same_position(selected_class))\n",
      "  File \"D:\\HANA\\phD\\PAPER_2022\\molecularRotationalGrids\\molgri\\plotting\\widgets.py\", line 172, in plot_frames_overlapping\n",
      "  File \"D:\\HANA\\phD\\PAPER_2022\\molecularRotationalGrids\\molgri\\plotting\\widgets.py\", line 77, in plot_ith_frame\n",
      "  File \"D:\\HANA\\phD\\PAPER_2022\\molecularRotationalGrids\\molgri\\plotting\\widgets.py\", line 45, in get_ith_frame\n",
      "    new_u = mda.Merge(self.u.atoms)\n",
      "AttributeError: 'SimulationHistogram' object has no attribute 'trajectory'\n",
      "\n",
      "During handling of the above exception, another exception occurred:\n",
      "\n",
      "Traceback (most recent call last):\n",
      "  File \"C:\\Users\\Hana\\AppData\\Local\\Programs\\Python\\Python39\\lib\\site-packages\\IPython\\core\\interactiveshell.py\", line 2105, in showtraceback\n",
      "    stb = self.InteractiveTB.structured_traceback(\n",
      "  File \"C:\\Users\\Hana\\AppData\\Local\\Programs\\Python\\Python39\\lib\\site-packages\\IPython\\core\\ultratb.py\", line 1396, in structured_traceback\n",
      "    return FormattedTB.structured_traceback(\n",
      "  File \"C:\\Users\\Hana\\AppData\\Local\\Programs\\Python\\Python39\\lib\\site-packages\\IPython\\core\\ultratb.py\", line 1287, in structured_traceback\n",
      "    return VerboseTB.structured_traceback(\n",
      "  File \"C:\\Users\\Hana\\AppData\\Local\\Programs\\Python\\Python39\\lib\\site-packages\\IPython\\core\\ultratb.py\", line 1140, in structured_traceback\n",
      "    formatted_exception = self.format_exception_as_a_whole(etype, evalue, etb, number_of_lines_of_context,\n",
      "  File \"C:\\Users\\Hana\\AppData\\Local\\Programs\\Python\\Python39\\lib\\site-packages\\IPython\\core\\ultratb.py\", line 1055, in format_exception_as_a_whole\n",
      "    frames.append(self.format_record(record))\n",
      "  File \"C:\\Users\\Hana\\AppData\\Local\\Programs\\Python\\Python39\\lib\\site-packages\\IPython\\core\\ultratb.py\", line 955, in format_record\n",
      "    frame_info.lines, Colors, self.has_colors, lvals\n",
      "  File \"C:\\Users\\Hana\\AppData\\Local\\Programs\\Python\\Python39\\lib\\site-packages\\IPython\\core\\ultratb.py\", line 778, in lines\n",
      "    return self._sd.lines\n",
      "  File \"C:\\Users\\Hana\\AppData\\Local\\Programs\\Python\\Python39\\lib\\site-packages\\stack_data\\utils.py\", line 144, in cached_property_wrapper\n",
      "    value = obj.__dict__[self.func.__name__] = self.func(obj)\n",
      "  File \"C:\\Users\\Hana\\AppData\\Local\\Programs\\Python\\Python39\\lib\\site-packages\\stack_data\\core.py\", line 734, in lines\n",
      "    pieces = self.included_pieces\n",
      "  File \"C:\\Users\\Hana\\AppData\\Local\\Programs\\Python\\Python39\\lib\\site-packages\\stack_data\\utils.py\", line 144, in cached_property_wrapper\n",
      "    value = obj.__dict__[self.func.__name__] = self.func(obj)\n",
      "  File \"C:\\Users\\Hana\\AppData\\Local\\Programs\\Python\\Python39\\lib\\site-packages\\stack_data\\core.py\", line 681, in included_pieces\n",
      "    pos = scope_pieces.index(self.executing_piece)\n",
      "  File \"C:\\Users\\Hana\\AppData\\Local\\Programs\\Python\\Python39\\lib\\site-packages\\stack_data\\utils.py\", line 144, in cached_property_wrapper\n",
      "    value = obj.__dict__[self.func.__name__] = self.func(obj)\n",
      "  File \"C:\\Users\\Hana\\AppData\\Local\\Programs\\Python\\Python39\\lib\\site-packages\\stack_data\\core.py\", line 660, in executing_piece\n",
      "    return only(\n",
      "  File \"C:\\Users\\Hana\\AppData\\Local\\Programs\\Python\\Python39\\lib\\site-packages\\executing\\executing.py\", line 190, in only\n",
      "    raise NotOneValueFound('Expected one value, found 0')\n",
      "executing.executing.NotOneValueFound: Expected one value, found 0\n"
     ]
    }
   ],
   "source": [
    "selected_class = 4\n",
    "\n",
    "vm = ViewManager(sh_traj)\n",
    "vm.fresh_view()\n",
    "vm.plot_frames_overlapping(sh_traj.get_indices_same_position(selected_class))\n",
    "vm.view"
   ]
  },
  {
   "cell_type": "code",
   "execution_count": null,
   "id": "15b5b53d",
   "metadata": {
    "ExecuteTime": {
     "end_time": "2024-01-19T16:17:09.435786Z",
     "start_time": "2024-01-19T16:17:09.435778Z"
    }
   },
   "outputs": [],
   "source": [
    "for selected_class in range(8):\n",
    "    vm = ViewManager(real_traj_sec_mol)\n",
    "    vm.fresh_view()\n",
    "    vm.plot_frames_overlapping(np.where(clases==selected_class)[0][::20])\n",
    "    display(vm.view)"
   ]
  },
  {
   "cell_type": "code",
   "execution_count": null,
   "id": "c9436e3d",
   "metadata": {
    "ExecuteTime": {
     "end_time": "2024-01-19T16:17:09.436488Z",
     "start_time": "2024-01-19T16:17:09.436481Z"
    }
   },
   "outputs": [],
   "source": [
    "# TODO: enable different colormaps\n",
    "# TODO: enable expressing magnitude as opacity\n",
    "# TODO: enable plotting only the most extrem values (most + and - for eigenvector)\n",
    "# TODO: plot eigenvectors and see if they are sensible\n",
    "# TODO: also plot 1D eigenvectors sorted by orientation/position\n",
    "# TODO: network flow plot for strongest rates?\n",
    "\n",
    "# TODO: make transition matrix determination faster and try it for a large matrix\n",
    "# TODO: HF forcefield and calculations\n",
    "# TODO: enable the same for plotting for simulations (real trajectories)"
   ]
  },
  {
   "cell_type": "markdown",
   "id": "ab0ae9f9",
   "metadata": {},
   "source": [
    "## Assigning trajectories to a FullGrid cell\n",
    "- input: (pseudo)trajectory and a FullGrid of choice\n",
    "- assign structures to position, orientation or full classes (cells of FullGrid) \n"
   ]
  },
  {
   "cell_type": "markdown",
   "id": "f2585b4d",
   "metadata": {},
   "source": [
    "### Test: assigning PT to a FullGrid\n",
    "\n",
    "- if assigning to its own fg, assignments should be 1:1\n",
    "- if assigning to a smaller fg, an uniform number per cell is expected"
   ]
  },
  {
   "cell_type": "code",
   "execution_count": null,
   "id": "bbd02a3b",
   "metadata": {
    "ExecuteTime": {
     "end_time": "2024-01-19T16:17:09.437182Z",
     "start_time": "2024-01-19T16:17:09.437173Z"
    }
   },
   "outputs": [],
   "source": [
    "evaluation_fg = FullGrid(\"40\", \"42\", \"linspace(0.2, 1.5, 10)\")\n",
    "\n",
    "# this pt was generated with fg = FullGrid(\"40\", \"42\", \"linspace(0.2, 1.5, 10)\")\n",
    "my_pt_name = \"H2O_H2O_0179\"\n",
    "\n",
    "sh = SimulationHistogram(my_pt_name, full_grid=evaluation_fg, second_molecule_selection=\"bynum 4:6\")\n",
    "np.set_printoptions(threshold=sys.maxsize)"
   ]
  },
  {
   "cell_type": "code",
   "execution_count": null,
   "id": "2088bac4",
   "metadata": {
    "ExecuteTime": {
     "end_time": "2024-01-19T16:17:09.437925Z",
     "start_time": "2024-01-19T16:17:09.437917Z"
    }
   },
   "outputs": [],
   "source": [
    "assignments = sh.get_position_assignments()\n",
    "natural_numbers = np.array(range(len(sh.full_grid.get_position_grid_as_array())))\n",
    "natural_numbers = np.repeat(natural_numbers, sh.full_grid.b_rotations.get_N())\n",
    "\n",
    "assert np.all(assignments == natural_numbers)\n",
    "\n",
    "assignments = sh.get_quaternion_assignments()\n",
    "natural_numbers = np.array(range(sh.full_grid.b_rotations.get_N()))\n",
    "natural_numbers = np.tile(natural_numbers, len(sh.full_grid.get_position_grid_as_array()))\n",
    "\n",
    "for el1, el2 in zip(assignments, natural_numbers):\n",
    "    print(el1, el2)\n",
    "    #pass\n",
    "\n",
    "#assignments = sh.get_full_assignments()\n",
    "#natural_numbers = np.array(range(len(assignments)))\n",
    "\n",
    "#for el1, el2 in zip(assignments, natural_numbers):\n",
    "#    print(el1, el2)"
   ]
  },
  {
   "cell_type": "markdown",
   "id": "a3945fbe",
   "metadata": {},
   "source": [
    "### Assigning a real trajectory fo a FullGrid"
   ]
  },
  {
   "cell_type": "code",
   "execution_count": null,
   "id": "23e1d446",
   "metadata": {
    "ExecuteTime": {
     "end_time": "2024-01-19T16:17:09.438575Z",
     "start_time": "2024-01-19T16:17:09.438567Z"
    },
    "scrolled": false
   },
   "outputs": [],
   "source": [
    "my_fg = FullGrid(\"8\", \"12\", \"[0.3, 0.6, 0.9, 1.2]\")\n",
    "sh_traj = SimulationHistogram(\"H2O_H2O_0095_2000\", full_grid=my_fg, second_molecule_selection=\"bynum 4:6\")\n"
   ]
  },
  {
   "cell_type": "code",
   "execution_count": null,
   "id": "e082f675",
   "metadata": {
    "ExecuteTime": {
     "end_time": "2024-01-19T16:17:09.439111Z",
     "start_time": "2024-01-19T16:17:09.439103Z"
    },
    "scrolled": false
   },
   "outputs": [],
   "source": [
    "# most populated cells \n",
    "assignments = sh_traj.get_full_assignments()\n",
    "my_indices, my_counts = np.unique(assignments.astype(int), return_counts=True)\n",
    "most_populated_cells = my_indices[k_argmax_in_array(my_counts, 5)]\n",
    "vm = ViewManager(sh.trajectory_universe)\n",
    "for selected_class in most_populated_cells:\n",
    "    vm.fresh_view()\n",
    "    vm.plot_frames_overlapping(np.where(assignments==selected_class)[0][::10])\n",
    "    display(vm.view)"
   ]
  },
  {
   "cell_type": "code",
   "execution_count": null,
   "id": "21415c96",
   "metadata": {
    "ExecuteTime": {
     "end_time": "2024-01-19T16:17:09.445501Z",
     "start_time": "2024-01-19T16:17:09.445485Z"
    }
   },
   "outputs": [],
   "source": [
    "# are the most populated cells also the ones with lowest average energy?\n",
    "# maybe not because the size of the cell strongly affects the population\n",
    "all_popular_frames = []\n",
    "full_assignments = sh_traj.get_full_assignments().astype(int)\n",
    "my_indices, my_counts = np.unique(full_assignments, return_counts=True)\n",
    "most_populated_cells = my_indices[k_argmax_in_array(my_counts, 3)]\n",
    "for populated_cell in most_populated_cells:\n",
    "    belongs_to_this = np.where(sh_traj.get_full_assignments()==populated_cell)[0]\n",
    "    all_popular_frames.extend(belongs_to_this)\n",
    "\n",
    "cell_volumes = np.array(sh_traj.full_grid.get_total_volumes())\n",
    "volume_per_assignment = cell_volumes[full_assignments]\n",
    "\n",
    "pot_energy = energies.get_energies(\"Potential\")/volume_per_assignment\n",
    "print(\"Popular frames energy\", np.min(pot_energy[all_popular_frames]), np.average(pot_energy[all_popular_frames]),\n",
    "     np.max(pot_energy[all_popular_frames]))\n",
    "print(\"All frames energy\", np.min(pot_energy), np.average(pot_energy),\n",
    "     np.max(pot_energy))"
   ]
  },
  {
   "cell_type": "code",
   "execution_count": null,
   "id": "add59ef7",
   "metadata": {
    "ExecuteTime": {
     "end_time": "2024-01-19T16:17:09.446464Z",
     "start_time": "2024-01-19T16:17:09.446455Z"
    },
    "scrolled": false
   },
   "outputs": [],
   "source": [
    "from molgri.plotting.transition_plots import TransitionPlot\n",
    "my_msm = MSM(sh, energies)\n",
    "my_tp = TransitionPlot(my_msm)\n",
    "my_tp.plot_heatmap(save=False)"
   ]
  },
  {
   "cell_type": "code",
   "execution_count": null,
   "id": "aae52e81",
   "metadata": {
    "ExecuteTime": {
     "end_time": "2024-01-19T16:17:09.447208Z",
     "start_time": "2024-01-19T16:17:09.447200Z"
    }
   },
   "outputs": [],
   "source": [
    "my_tp.plot_its(save=False)"
   ]
  },
  {
   "cell_type": "code",
   "execution_count": null,
   "id": "9f4c1a27",
   "metadata": {},
   "outputs": [],
   "source": []
  }
 ],
 "metadata": {
  "kernelspec": {
   "display_name": "Python 3 (ipykernel)",
   "language": "python",
   "name": "python3"
  },
  "language_info": {
   "codemirror_mode": {
    "name": "ipython",
    "version": 3
   },
   "file_extension": ".py",
   "mimetype": "text/x-python",
   "name": "python",
   "nbconvert_exporter": "python",
   "pygments_lexer": "ipython3",
   "version": "3.9.13"
  },
  "toc": {
   "base_numbering": 1,
   "nav_menu": {},
   "number_sections": true,
   "sideBar": true,
   "skip_h1_title": true,
   "title_cell": "Table of Contents",
   "title_sidebar": "Contents",
   "toc_cell": true,
   "toc_position": {
    "height": "calc(100% - 180px)",
    "left": "10px",
    "top": "150px",
    "width": "384px"
   },
   "toc_section_display": true,
   "toc_window_display": true
  }
 },
 "nbformat": 4,
 "nbformat_minor": 5
}
