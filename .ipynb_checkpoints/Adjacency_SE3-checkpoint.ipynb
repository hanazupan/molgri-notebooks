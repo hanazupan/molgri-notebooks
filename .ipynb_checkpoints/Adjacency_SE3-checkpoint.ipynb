{
 "cells": [
  {
   "cell_type": "markdown",
   "id": "4fd1e11c",
   "metadata": {},
   "source": [
    "# Adjacency in SE(3) space\n",
    "\n",
    "**September of 2023, molgri version 1.3.8 (+ current development)**\n",
    "\n",
    "Need to deal with adjacency before we can deal with volumes etc. Otherwise we don't even know what $\\Delta$ parameters to include with our jacobians.\n",
    "\n",
    "Now, adjacency in position space is easy and can be visually tested. Adjacency in orientation space is trickier. We need both to be able to combine them and ultimatively resolve if two points are neighbours or not."
   ]
  },
  {
   "cell_type": "code",
   "execution_count": null,
   "id": "3ce3dd0d",
   "metadata": {
    "ExecuteTime": {
     "end_time": "2023-09-29T09:59:38.606385Z",
     "start_time": "2023-09-29T09:59:38.606385Z"
    },
    "init_cell": true
   },
   "outputs": [],
   "source": [
    "import sys\n",
    "import os\n",
    "\n",
    "try:\n",
    "    os.chdir(r\"/home/zupanhana/PAPER_MOLECULAR_ROTATIONS_2022/nobackup/molgri\")\n",
    "    sys.path.append(r\"/home/zupanhana/PAPER_MOLECULAR_ROTATIONS_2022/nobackup\")\n",
    "except FileNotFoundError:\n",
    "    os.chdir(r\"D:\\HANA\\phD\\PAPER_2022\\molecularRotationalGrids\")\n",
    "    sys.path.append(r\"D:\\HANA\\phD\\PAPER_2022\\molecularRotationalGrids\")\n",
    "    \n",
    "import warnings\n",
    "warnings.filterwarnings(\"ignore\")"
   ]
  },
  {
   "cell_type": "code",
   "execution_count": null,
   "id": "c70deffe",
   "metadata": {
    "ExecuteTime": {
     "end_time": "2023-09-29T09:59:38.608554Z",
     "start_time": "2023-09-29T09:59:38.608554Z"
    },
    "init_cell": true
   },
   "outputs": [],
   "source": [
    "from molgri.space.fullgrid import FullGrid\n",
    "from molgri.plotting.abstract import show_anim_in_jupyter\n",
    "from molgri.plotting.fullgrid_plots import FullGridPlot\n",
    "from molgri.space.polytopes import PolyhedronFromG, IcosahedronPolytope, Cube3DPolytope, Cube4DPolytope, find_opposing_q\n",
    "from molgri.plotting.spheregrid_plots import SphereGridPlot, PolytopePlot, EightCellsPlot\n",
    "from molgri.space.utils import angle_between_vectors\n",
    "\n",
    "import matplotlib.pyplot as plt\n",
    "import seaborn as sns\n",
    "import networkx as nx\n",
    "import numpy as np\n",
    "from tqdm import tqdm\n",
    "from scipy.spatial.distance import cdist\n",
    "from scipy.constants import pi\n",
    "import matplotlib.colors as colors\n",
    "import matplotlib as mpl\n",
    "\n",
    "sns.set_context(\"talk\")\n",
    "sns.set_style(\"white\")"
   ]
  },
  {
   "cell_type": "markdown",
   "id": "4cd70837",
   "metadata": {},
   "source": [
    "## Adjacency in position grids\n",
    "\n",
    "In position grids we can reliably identify neighbours using Voronoi cells.\n",
    "\n",
    "We want to compare this true Voronoi adjacency with adjacency information we can obtain from\n",
    "- division of polyhedra\n",
    "- distances between points\n",
    "\n",
    "This helps us later to determine neighbourship in quaternion space\n",
    "\n",
    "### Using Voronoi cells"
   ]
  },
  {
   "cell_type": "code",
   "execution_count": null,
   "id": "435a6a74",
   "metadata": {
    "ExecuteTime": {
     "end_time": "2023-09-29T09:59:38.610013Z",
     "start_time": "2023-09-29T09:59:38.610013Z"
    }
   },
   "outputs": [],
   "source": [
    "# Very straightforward calculation of adjacency from neighbouring voronoi cells\n",
    "n_o = 7\n",
    "n_b = 50\n",
    "fg = FullGrid(f\"cube4D_{n_b}\", f\"ico_{n_o}\",\n",
    "              \"linspace(1, 5, 3)\", use_saved=False)\n",
    "voronoi_adjacency = fg.get_adjacency_of_position_grid().toarray()\n",
    "sns.heatmap(voronoi_adjacency, cmap=\"gray\")\n",
    "plt.tight_layout()\n",
    "plt.show()"
   ]
  },
  {
   "cell_type": "code",
   "execution_count": null,
   "id": "eff01b6d",
   "metadata": {
    "ExecuteTime": {
     "end_time": "2023-09-29T09:59:38.612124Z",
     "start_time": "2023-09-29T09:59:38.611119Z"
    }
   },
   "outputs": [],
   "source": [
    "# visual display with numbered Voronoi cells\n",
    "fgp = FullGridPlot(fg)\n",
    "ani = fgp.make_full_voronoi_plot(save=False, animate_rot=True, numbered=True)\n",
    "show_anim_in_jupyter(ani)"
   ]
  },
  {
   "cell_type": "markdown",
   "id": "49a570db",
   "metadata": {},
   "source": [
    "### Using polytope neighbours/distances\n",
    "\n",
    "Since distances are trivial, let's just focus on rotations (o_grid). Let us compare three methods:\n",
    "- Voronoi neighbours (reference)\n",
    "- polytope neighbours (obtained during the process of sub-division)\n",
    "- k smallest distances (calculate cdistance matrix, count k elements with smallest distances as neighbours of the point; k depends on the polytope and is different for polytope levels 0 and >= 1)\n",
    "\n",
    "-> k for level 0/>0 is 3/4 for cube3D and 5/6 for icosahedron\n",
    "\n",
    "The first method is reliably correct, but not aplicable to higher dimensions. I want to compare the other two methods to the first one to see if they are reliable, since I could extend both of them to orientations.\n"
   ]
  },
  {
   "cell_type": "markdown",
   "id": "3868505b",
   "metadata": {},
   "source": [
    "#### Icosahedron\n",
    "\n",
    "Number of points for perfect divisions:\n",
    "- 12\n",
    "- 42\n",
    "- 162\n",
    "- 642\n",
    "\n",
    "For these, other methods should work perfectly."
   ]
  },
  {
   "cell_type": "code",
   "execution_count": null,
   "id": "e7054af1",
   "metadata": {
    "ExecuteTime": {
     "end_time": "2023-09-29T09:59:38.613530Z",
     "start_time": "2023-09-29T09:59:38.613530Z"
    },
    "scrolled": true
   },
   "outputs": [],
   "source": [
    "plt.close()\n",
    "n_os = (12, 42) #, 162\n",
    "fig, ax = plt.subplots(len(n_os), 5, figsize=(50, 30))\n",
    "\n",
    "for i, n_o in enumerate(n_os):\n",
    "    fg = FullGrid(f\"zero\", f\"ico_{n_o}\", \"[0.1,]\", use_saved=False)\n",
    "    vor_adj = fg.get_adjacency_of_position_grid().toarray()\n",
    "    sns.heatmap(vor_adj, cmap=\"gray\", ax=ax[i][0], cbar=False)\n",
    "    poly_adj = fg.get_polyhedron_adjacency(o_grid=True).toarray()\n",
    "    sns.heatmap(poly_adj, cmap=\"gray\", ax=ax[i][1], cbar=False)\n",
    "    sns.heatmap(poly_adj^vor_adj, cmap=\"Reds\", ax=ax[i][2], cbar=False)\n",
    "    empty_arr = fg.get_poly_dist_adjacency()\n",
    "    sns.heatmap(empty_arr, ax=ax[i][3], cmap=\"gray\", cbar=False)\n",
    "    sns.heatmap(empty_arr^vor_adj, ax=ax[i][4], cmap=\"Reds\", cbar=False)\n",
    "ax[0][0].set_title(\"Voronoi adjacency\")\n",
    "ax[0][1].set_title(\"Polytope adjacency\")\n",
    "ax[0][2].set_title(\"Error polytope\")\n",
    "ax[0][3].set_title(\"Distances\")\n",
    "ax[0][4].set_title(\"Error distances\")\n",
    "plt.show()"
   ]
  },
  {
   "cell_type": "markdown",
   "id": "7ae334f0",
   "metadata": {},
   "source": [
    "See below - polytope division of icosahedron actually misses some real neighbours."
   ]
  },
  {
   "cell_type": "code",
   "execution_count": null,
   "id": "72b187bc",
   "metadata": {
    "ExecuteTime": {
     "end_time": "2023-09-29T09:59:38.615942Z",
     "start_time": "2023-09-29T09:59:38.615942Z"
    }
   },
   "outputs": [],
   "source": [
    "# explain the red areas of poly_adj\n",
    "n_o = 42\n",
    "fg = FullGrid(f\"zero\", f\"ico_{n_o}\", \"[0.1,]\", use_saved=False)\n",
    "colors = [\"white\"] * len(fg.get_flat_position_grid())\n",
    "poly_adj = fg.get_polyhedron_adjacency(o_grid=True).toarray()\n",
    "point_index = 41\n",
    "\n",
    "for i, trug in enumerate(poly_adj[point_index]):\n",
    "    if trug:\n",
    "        colors[i] = \"green\"\n",
    "colors[point_index] = \"blue\"\n",
    "\n",
    "fgp = FullGridPlot(fg)\n",
    "ani = fgp.make_full_voronoi_plot(save=False, animate_rot=True, numbered=True, colors=colors)\n",
    "show_anim_in_jupyter(ani)"
   ]
  },
  {
   "cell_type": "markdown",
   "id": "f8af331b",
   "metadata": {},
   "source": [
    "#### Cube 3D\n",
    "\n",
    "Number of points for perfect divisions:\n",
    "- 14\n",
    "- 50\n",
    "- 194\n",
    "- 770"
   ]
  },
  {
   "cell_type": "code",
   "execution_count": null,
   "id": "55e77121",
   "metadata": {
    "ExecuteTime": {
     "end_time": "2023-09-29T09:59:38.617073Z",
     "start_time": "2023-09-29T09:59:38.617073Z"
    }
   },
   "outputs": [],
   "source": [
    "# repeat for cubes\n",
    "plt.close()\n",
    "n_os = (14, 50) #, 194\n",
    "fig, ax = plt.subplots(len(n_os), 5, figsize=(50, 30))\n",
    "for i, n_o in enumerate(n_os):\n",
    "    fg = FullGrid(f\"zero\", f\"cube3D_{n_o}\", \"[0.1,]\", use_saved=False)\n",
    "    vor_adj = fg.get_adjacency_of_position_grid().toarray()\n",
    "    sns.heatmap(vor_adj, cmap=\"gray\", ax=ax[i][0], cbar=False)\n",
    "    poly_adj = fg.get_polyhedron_adjacency(o_grid=True).toarray()\n",
    "    sns.heatmap(poly_adj, cmap=\"gray\", ax=ax[i][1], cbar=False)\n",
    "    sns.heatmap(poly_adj^vor_adj, cmap=\"Reds\", ax=ax[i][2], cbar=False)\n",
    "    empty_arr = fg.get_poly_dist_adjacency()\n",
    "    sns.heatmap(empty_arr, ax=ax[i][3], cmap=\"gray\", cbar=False)\n",
    "    sns.heatmap(empty_arr^vor_adj, ax=ax[i][4], cmap=\"Reds\", cbar=False)\n",
    "ax[0][0].set_title(\"Voronoi adjacency\")\n",
    "ax[0][1].set_title(\"Polytope adjacency\")\n",
    "ax[0][2].set_title(\"Error polytope\")\n",
    "ax[0][3].set_title(\"Distances\")\n",
    "ax[0][4].set_title(\"Error distances\")\n",
    "plt.show()"
   ]
  },
  {
   "cell_type": "markdown",
   "id": "b95ad0ec",
   "metadata": {},
   "source": [
    "It may look like the distance method is also not working great here, but if we look at the points, we see that it is actually a reasonable prediction (the question whether it is better to use the diagonals too is open)."
   ]
  },
  {
   "cell_type": "code",
   "execution_count": null,
   "id": "fbaf83f6",
   "metadata": {
    "ExecuteTime": {
     "end_time": "2023-09-29T09:59:38.618079Z",
     "start_time": "2023-09-29T09:59:38.618079Z"
    }
   },
   "outputs": [],
   "source": [
    "# explain the red areas\n",
    "n_o = 50\n",
    "fg = FullGrid(f\"zero\", f\"cube3D_{n_o}\", \"[0.1,]\", use_saved=False)\n",
    "colors = [\"white\"] * len(fg.get_flat_position_grid())\n",
    "dist_adj = fg.get_poly_dist_adjacency()\n",
    "point_index = 12\n",
    "\n",
    "for i, trug in enumerate(dist_adj[point_index]):\n",
    "    if trug:\n",
    "        colors[i] = \"green\"\n",
    "colors[point_index] = \"blue\"\n",
    "\n",
    "fgp = FullGridPlot(fg)\n",
    "ani = fgp.make_full_voronoi_plot(save=False, animate_rot=True, numbered=True, colors=colors)\n",
    "show_anim_in_jupyter(ani)"
   ]
  },
  {
   "cell_type": "markdown",
   "id": "f411a67e",
   "metadata": {},
   "source": [
    "Conclusion (so far): not really able to determine neighbours in any way but Voronoi except for perfect divisions. Let's forcus on perfect divisions for now."
   ]
  },
  {
   "cell_type": "markdown",
   "id": "b6203035",
   "metadata": {},
   "source": [
    "## Adjacency in orientation grids\n",
    "\n",
    "Based on what we've learned in position space, we can only be sure that we achieve correct adjacency (without being able to do hyperspherical Voronoi) if we use cube4D algorithm with full subdivision steps. That means we are only allowed to use\n",
    "- 8,\n",
    "- 40,\n",
    "- 272 or\n",
    "- 2080\n",
    "orientations.\n",
    "(This is for 0-3 divisions of hypercube after removing double coverage of quaternions).\n",
    "\n",
    "We can create adjacency matrices:\n",
    "- directly from neighbours during polytope division\n",
    "- from distance matrix using a particular cut-off\n",
    "\n",
    "Some problems to be aware of:\n",
    "- when determining neighbours need to take into account that q and -q are the same orientation (should share neighbours)\n",
    "- need a quaternion-apropriate metric to construct distance matrix"
   ]
  },
  {
   "cell_type": "code",
   "execution_count": null,
   "id": "e2b169b0",
   "metadata": {
    "ExecuteTime": {
     "end_time": "2023-09-29T09:59:38.620112Z",
     "start_time": "2023-09-29T09:59:38.620112Z"
    }
   },
   "outputs": [],
   "source": [
    "c4_zero = Cube4DPolytope()\n",
    "\n",
    "c4_one = Cube4DPolytope()\n",
    "c4_one.divide_edges()\n",
    "\n",
    "c4_two = Cube4DPolytope()\n",
    "c4_two.divide_edges()\n",
    "c4_two.divide_edges()\n",
    "\n",
    "c4_three = Cube4DPolytope()\n",
    "c4_three.divide_edges()\n",
    "c4_three.divide_edges()\n",
    "c4_three.divide_edges()\n",
    "\n",
    "all_c4 = [c4_zero, c4_one, c4_two, c4_three]"
   ]
  },
  {
   "cell_type": "markdown",
   "id": "f0e453eb",
   "metadata": {},
   "source": [
    "### Expected number of neighbours"
   ]
  },
  {
   "cell_type": "code",
   "execution_count": null,
   "id": "bf61fb74",
   "metadata": {
    "ExecuteTime": {
     "end_time": "2023-09-29T09:59:38.622106Z",
     "start_time": "2023-09-29T09:59:38.622106Z"
    }
   },
   "outputs": [],
   "source": [
    "# Based on polyhedron division, there is a specific number of neighbours expected for every level of division\n",
    "# Formula: 4 neighbours for vertices of cells, 5 for points on edges of cells, 6 otherwise\n",
    "\n",
    "for i, hypercube in enumerate(all_c4):\n",
    "    # there will always be 16 vertices\n",
    "    num_vertices = 16\n",
    "    \n",
    "    # On the zeroth level there are 0 points per edge, on 1st one, on 2nd 1+2=3, on 3rd 1+2+4=7, on Nth\n",
    "    # sum_[i=0 ...N-1] 2^i -> this number is called nd here\n",
    "    \n",
    "    nd = 0\n",
    "    for j in range(0, i):\n",
    "        nd += 2**(j)\n",
    "        \n",
    "    # Edges are shared between 3 cells, 12 edges per cell, 8 cells in a hypercube\n",
    "    num_edges = 8 * 12 // 3 * nd\n",
    "    num_total_points = hypercube.G.number_of_nodes()\n",
    "    \n",
    "    # Using the formula & calculating average\n",
    "    expected_num_of_neig = num_vertices * 4 +  num_edges * 5 + (num_total_points - num_edges - num_vertices) * 6\n",
    "    expected_num_of_neig /= num_total_points\n",
    "    \n",
    "    num_without_DC = len(hypercube.select_half_of_hypercube())\n",
    "    \n",
    "    print(f\"For {i} divisions, expect {num_total_points} points ({num_without_DC} without DC), average num of neighbours is {expected_num_of_neig}\")"
   ]
  },
  {
   "cell_type": "markdown",
   "id": "50d484da",
   "metadata": {},
   "source": [
    "### Displaying hypercube and half-hypercube\n",
    "\n",
    "Displaying hypercube:\n",
    "- animation where the 4th dimension is time\n",
    "- 8 plots for each of 8 cubic cells (like displaying 3D cube with 6 squares for each face)\n",
    "\n",
    "Select half-hypercube:  select a list of all nodes (each node a 4-tuple) that have non-negative first coordinate. Among the nodes with first coordinate equal zero, select only the ones with non-negative second coordinate etc.\n"
   ]
  },
  {
   "cell_type": "code",
   "execution_count": null,
   "id": "7c723096",
   "metadata": {
    "ExecuteTime": {
     "end_time": "2023-09-29T09:59:38.623104Z",
     "start_time": "2023-09-29T09:59:38.623104Z"
    },
    "scrolled": true
   },
   "outputs": [],
   "source": [
    "# display how half-cube selection works\n",
    "\n",
    "selected_half = c4_one.select_half_of_hypercube()\n",
    "\n",
    "for n, d in c4_one.G.nodes(data=True):\n",
    "    p = d[\"projection\"]\n",
    "    print(f\"Node {n} with projection {np.round(p, 3)} is in selection: {n in selected_half}\")\n",
    "print(f\"In total {len(selected_half)}/{c4_one.G.number_of_nodes()} are selected.\")"
   ]
  },
  {
   "cell_type": "code",
   "execution_count": null,
   "id": "73565078",
   "metadata": {
    "ExecuteTime": {
     "end_time": "2023-09-29T09:59:38.625098Z",
     "start_time": "2023-09-29T09:59:38.625098Z"
    }
   },
   "outputs": [],
   "source": [
    "# this is full hypercube\n",
    "ecp = EightCellsPlot(c4_one, only_half_of_cube=False)\n",
    "ecp.plot_eight_cells(save=False)\n",
    "plt.show()"
   ]
  },
  {
   "cell_type": "code",
   "execution_count": null,
   "id": "766b4b0b",
   "metadata": {
    "ExecuteTime": {
     "end_time": "2023-09-29T09:59:38.626111Z",
     "start_time": "2023-09-29T09:59:38.626111Z"
    }
   },
   "outputs": [],
   "source": [
    "# this is hypercube without double-coverage\n",
    "ecp_half = EightCellsPlot(c4_one, only_half_of_cube=True)\n",
    "ecp_half.plot_eight_cells(save=False)\n",
    "plt.show()"
   ]
  },
  {
   "cell_type": "code",
   "execution_count": null,
   "id": "698b9782",
   "metadata": {
    "ExecuteTime": {
     "end_time": "2023-09-29T09:59:38.628389Z",
     "start_time": "2023-09-29T09:59:38.627187Z"
    }
   },
   "outputs": [],
   "source": [
    "from molgri.plotting.spheregrid_plots import ArrayPlot\n",
    "\n",
    "\n",
    "all_projected_points = np.array([d[\"projection\"] for n, d in c4_two.G.nodes(data=True)])\n",
    "\n",
    "ap = ArrayPlot(data_name=\"full_hypercube\", my_array=all_projected_points)\n",
    "ani = ap.make_trans_animation()\n",
    "show_anim_in_jupyter(ani)"
   ]
  },
  {
   "cell_type": "code",
   "execution_count": null,
   "id": "cdd2d511",
   "metadata": {
    "ExecuteTime": {
     "end_time": "2023-09-29T09:59:38.630680Z",
     "start_time": "2023-09-29T09:59:38.630680Z"
    }
   },
   "outputs": [],
   "source": [
    "selected_half = c4_two.select_half_of_hypercube()\n",
    "half_projected_points = np.array([d[\"projection\"] for n, d in c4_two.G.nodes(data=True) if n in selected_half])\n",
    "\n",
    "ap = ArrayPlot(data_name=\"half_hypercube\", my_array=half_projected_points)\n",
    "ani = ap.make_trans_animation()\n",
    "show_anim_in_jupyter(ani)"
   ]
  },
  {
   "cell_type": "markdown",
   "id": "0a341e80",
   "metadata": {},
   "source": [
    "### Displaying neighbourship in hypercube\n",
    "\n",
    "A polytope is created with subdivision of neighbouring points. Let us display the neighbours of a particular point.\n",
    "\n",
    "\n",
    "#### All nodes, no opposing neighbours"
   ]
  },
  {
   "cell_type": "code",
   "execution_count": null,
   "id": "60543ffb",
   "metadata": {
    "ExecuteTime": {
     "end_time": "2023-09-29T09:59:38.630680Z",
     "start_time": "2023-09-29T09:59:38.630680Z"
    }
   },
   "outputs": [],
   "source": [
    "# 0 is on vertex, has 4 neighbours\n",
    "# 70 is on edge, has 5 neighbours\n",
    "# 21 on a face, has 6 neighbours\n",
    "# 40 is inside, has 6 neighbours\n",
    "\n",
    "ecp = EightCellsPlot(c4_one, only_half_of_cube=False)\n",
    "ecp.plot_polytope_neighbours(70, animate_rot=False, include_opposing_neighbours=False, save=False)\n",
    "plt.show()"
   ]
  },
  {
   "cell_type": "markdown",
   "id": "e07128dd",
   "metadata": {},
   "source": [
    "Based on this neighbourship we can create adjacency matrix (white=neighbour). We also calculate the average number of neighbours per point (av number of white cells per line in adjacency matrix)."
   ]
  },
  {
   "cell_type": "code",
   "execution_count": null,
   "id": "c5de51d4",
   "metadata": {
    "ExecuteTime": {
     "end_time": "2023-09-29T09:59:38.632009Z",
     "start_time": "2023-09-29T09:59:38.632009Z"
    }
   },
   "outputs": [],
   "source": [
    "fig, ax = plt.subplots(1, 1, figsize=(5,5))\n",
    "ecp.plot_adj_matrix(include_opposing_neighbours=False, save=False, fig=fig, ax=ax)\n",
    "plt.show()"
   ]
  },
  {
   "cell_type": "markdown",
   "id": "a83cca01",
   "metadata": {},
   "source": [
    "Of course we are actually only interested in half of the hypercube, otherwise each orientation is represented twice.\n",
    "\n",
    "#### Half nodes, no opposing neighbours"
   ]
  },
  {
   "cell_type": "code",
   "execution_count": null,
   "id": "e612ec5a",
   "metadata": {
    "ExecuteTime": {
     "end_time": "2023-09-29T09:59:38.633248Z",
     "start_time": "2023-09-29T09:59:38.633248Z"
    }
   },
   "outputs": [],
   "source": [
    "ecp_half = EightCellsPlot(c4_one, only_half_of_cube=True)\n",
    "ecp_half.plot_polytope_neighbours(70, animate_rot=False, include_opposing_neighbours=False, save=False)\n",
    "plt.show()"
   ]
  },
  {
   "cell_type": "code",
   "execution_count": null,
   "id": "d565436a",
   "metadata": {
    "ExecuteTime": {
     "end_time": "2023-09-29T09:59:38.634301Z",
     "start_time": "2023-09-29T09:59:38.634301Z"
    }
   },
   "outputs": [],
   "source": [
    "ecp_half.plot_adj_matrix(include_opposing_neighbours=False, save=False)\n",
    "plt.show()"
   ]
  },
  {
   "cell_type": "markdown",
   "id": "415801b9",
   "metadata": {},
   "source": [
    "Now the issue is ... if we only use half of the cube, the number of neighbours falls below the expected level. Why is that? Well, when we simply remove half of the points, some remaining points lose neighbours, which shouldn't actually happen, since we are actually removing duplicates ... the reason is that we were counting neighbours wrongly from the beginning. In addition to direct neighbours, we must consider the neighbours of the opposing point too.\n",
    "\n",
    "#### All nodes, including opposing neighbours"
   ]
  },
  {
   "cell_type": "code",
   "execution_count": null,
   "id": "020d64d3",
   "metadata": {
    "ExecuteTime": {
     "end_time": "2023-09-29T09:59:38.635382Z",
     "start_time": "2023-09-29T09:59:38.635382Z"
    }
   },
   "outputs": [],
   "source": [
    "# the opposing node is shown in orange. Either the red or the orange point will be removed when selecting half-cube\n",
    "\n",
    "ecp = EightCellsPlot(c4_one, only_half_of_cube=False)\n",
    "ecp.plot_polytope_neighbours(70, animate_rot=False, include_opposing_neighbours=True, save=False)\n",
    "plt.show()"
   ]
  },
  {
   "cell_type": "code",
   "execution_count": null,
   "id": "ef1dbc0e",
   "metadata": {
    "ExecuteTime": {
     "end_time": "2023-09-29T09:59:38.638351Z",
     "start_time": "2023-09-29T09:59:38.638351Z"
    }
   },
   "outputs": [],
   "source": [
    "ecp.plot_adj_matrix(include_opposing_neighbours=True, save=False)\n",
    "plt.show()"
   ]
  },
  {
   "cell_type": "markdown",
   "id": "568eb0e0",
   "metadata": {},
   "source": [
    "With this we finally come to the correct constellation\n",
    "\n",
    "#### Half nodes, including opposing neighbours"
   ]
  },
  {
   "cell_type": "code",
   "execution_count": null,
   "id": "08f97b89",
   "metadata": {
    "ExecuteTime": {
     "end_time": "2023-09-29T09:59:38.639420Z",
     "start_time": "2023-09-29T09:59:38.638351Z"
    }
   },
   "outputs": [],
   "source": [
    "ecp_half = EightCellsPlot(c4_one, only_half_of_cube=True)\n",
    "ecp_half.plot_polytope_neighbours(70, animate_rot=False, include_opposing_neighbours=True, save=False)\n",
    "plt.show()"
   ]
  },
  {
   "cell_type": "code",
   "execution_count": null,
   "id": "ecc6e277",
   "metadata": {
    "ExecuteTime": {
     "end_time": "2023-09-29T09:59:38.639420Z",
     "start_time": "2023-09-29T09:59:38.639420Z"
    }
   },
   "outputs": [],
   "source": [
    "ecp_half.plot_adj_matrix(include_opposing_neighbours=True, save=False)\n",
    "plt.show()"
   ]
  },
  {
   "cell_type": "markdown",
   "id": "ece74a54",
   "metadata": {},
   "source": [
    "### Compare with distance matrix\n",
    "\n",
    "As a test, we expect points that are adjacent to also be close together. Using appropriate measure, we can calculate the matrix of distances between all points (or again, only half the points) and compare this matrix to the adjacency matrix we just created.\n",
    "\n",
    "The measure for distances is:\n",
    "\n",
    "```\n",
    "def constrained_angle_distance(q1, q2):\n",
    "    theta = angle_between_vectors(q1, q2)\n",
    "    if (theta > pi / 2):\n",
    "        theta = pi - theta\n",
    "    return theta\n",
    "```"
   ]
  },
  {
   "cell_type": "code",
   "execution_count": null,
   "id": "543f0674",
   "metadata": {
    "ExecuteTime": {
     "end_time": "2023-09-29T09:59:38.640851Z",
     "start_time": "2023-09-29T09:59:38.640851Z"
    }
   },
   "outputs": [],
   "source": [
    "# full cubes, blue = value zero\n",
    "fig, ax = plt.subplots(1, 2, figsize=(10,20))\n",
    "ecp.plot_adj_matrix(include_opposing_neighbours=True, save=False, fig=fig, ax=ax[0])\n",
    "ecp.plot_cdist_matrix(ax=ax[1], fig=fig, save=False)\n",
    "plt.show()"
   ]
  },
  {
   "cell_type": "markdown",
   "id": "0bfd5cd4",
   "metadata": {},
   "source": [
    "Note how we have two blue values per row. Note also that the white patterns left and right repeat. It will be even more visible when we remove repeating points."
   ]
  },
  {
   "cell_type": "code",
   "execution_count": null,
   "id": "1cb3b0c7",
   "metadata": {
    "ExecuteTime": {
     "end_time": "2023-09-29T09:59:38.642942Z",
     "start_time": "2023-09-29T09:59:38.642942Z"
    }
   },
   "outputs": [],
   "source": [
    "# half cubes, blue = value zero\n",
    "fig, ax = plt.subplots(1, 2, figsize=(10,20))\n",
    "ecp_half.plot_adj_matrix(include_opposing_neighbours=True, save=False, fig=fig, ax=ax[0])\n",
    "ecp_half.plot_cdist_matrix(ax=ax[1], fig=fig, save=False)\n",
    "plt.show()"
   ]
  },
  {
   "cell_type": "markdown",
   "id": "3c614781",
   "metadata": {},
   "source": [
    "Notice how the patterns above were symmetrized versions of these ones?\n",
    "\n",
    "This mostly looks really good. The adjacent points equal the \"whitest\" points in cdist matrix - the points with smallest distances. However, some grayish points are hard to order. To get a closer look, we decompose the cdist matrix and look at what causes particular patterns."
   ]
  },
  {
   "cell_type": "code",
   "execution_count": null,
   "id": "6ed240e3",
   "metadata": {
    "ExecuteTime": {
     "end_time": "2023-09-29T09:59:38.644967Z",
     "start_time": "2023-09-29T09:59:38.644967Z"
    }
   },
   "outputs": [],
   "source": [
    "decompositions = ecp.decompose_cdist(save=False, vmax=1)\n",
    "plt.show()"
   ]
  },
  {
   "cell_type": "code",
   "execution_count": null,
   "id": "63f248a0",
   "metadata": {
    "ExecuteTime": {
     "end_time": "2023-09-29T09:59:38.646064Z",
     "start_time": "2023-09-29T09:59:38.646064Z"
    }
   },
   "outputs": [],
   "source": [
    "decompositions_half = ecp_half.decompose_cdist(save=False, vmax=1)\n",
    "plt.show()"
   ]
  },
  {
   "cell_type": "markdown",
   "id": "6f1760fb",
   "metadata": {},
   "source": [
    "Now the category 0 and 1 of decomposition are also present in the adjacency matrix, so it's clear - those are the shortest distances and also neighbours, as expected. Category 2 is a bit weird - it includes all the rest of adjacency points, but also some other extra points. what is happening there? Let us visualise which kinds of points belong to category 2."
   ]
  },
  {
   "cell_type": "code",
   "execution_count": null,
   "id": "fee8a274",
   "metadata": {
    "ExecuteTime": {
     "end_time": "2023-09-29T09:59:38.647093Z",
     "start_time": "2023-09-29T09:59:38.647093Z"
    },
    "scrolled": false
   },
   "outputs": [],
   "source": [
    "# let's figure out which points are in this specific matrices\n",
    "\n",
    "# 15 is on vertex, has 4 neighbours\n",
    "# all of 15's direct neighbours are in category 0 (0.524) + diagonal neighbours in category 2 (0.785)\n",
    "\n",
    "\n",
    "# 70 is on edge, has 5 neighbours\n",
    "# 70 has vertex neighbours in category 0, other direct neighbours in category 1 (0.615), no neighbours in cat 2\n",
    "\n",
    "\n",
    "# 33 on a face, has 6 neighbours\n",
    "# 33 has no neighbours in category 0, 4 direct in category 1, 2 direct + 4 diagonal ones in category 2\n",
    "\n",
    "\n",
    "# 45 is inside, has 6 neighbours\n",
    "# 45 has no neighbours in category 0 or 1, 6 direct ones in category 2\n",
    "\n",
    "\n",
    "first_index = 33\n",
    "opposing_index = find_opposing_q(first_index, c4_one.G)\n",
    "\n",
    "\n",
    "second_indices = list(np.where(decompositions[2][first_index] == True)[0])\n",
    "\n",
    "\n",
    "ecp.plot_eight_cells(save=False)\n",
    "ecp._plot_in_color([first_index,], color=\"red\", all_ax=ecp.all_ax, fig=ecp.fig)\n",
    "ecp._plot_in_color(second_indices, color=\"blue\", all_ax=ecp.all_ax, fig=ecp.fig)\n",
    "ecp._plot_in_color([opposing_index,], color=\"orange\", all_ax=ecp.all_ax, fig=ecp.fig)\n",
    "plt.show()"
   ]
  },
  {
   "cell_type": "markdown",
   "id": "b5d49d98",
   "metadata": {},
   "source": [
    "CONCLUSION: category 2 is confusing because in addition to direct neighbours of inside elements, it also includes some diagonal elements that are particularly close.\n",
    "\n",
    "Hypercube, like cube, distorts a bit. The points near vertices are closer together than points far from vertices (here: middle of cell). However, the number of neighbours doesn't directly depend on distances; I belive we can safely use the polytope adjacency matrix. If there are problems, we can reconsider if we still need to use the entire category 2 to describe neighbouring relations"
   ]
  },
  {
   "cell_type": "markdown",
   "id": "9a4c22a9",
   "metadata": {},
   "source": [
    "### Conclusion\n",
    "\n",
    "To the best of my knowledge, these are the correct adjacency matrices"
   ]
  },
  {
   "cell_type": "code",
   "execution_count": null,
   "id": "01385a15",
   "metadata": {
    "ExecuteTime": {
     "end_time": "2023-09-29T09:59:38.649347Z",
     "start_time": "2023-09-29T09:59:38.649347Z"
    },
    "scrolled": false
   },
   "outputs": [],
   "source": [
    "for c4 in all_c4:\n",
    "    ecp_half = EightCellsPlot(c4, only_half_of_cube=True)\n",
    "    ecp_half.plot_adj_matrix(include_opposing_neighbours=True, save=False)\n",
    "    plt.show()"
   ]
  },
  {
   "cell_type": "markdown",
   "id": "67e81ece",
   "metadata": {},
   "source": [
    "Hm, why actually those giant black squares?\n",
    "\n",
    "Well, how are the points numbered?  "
   ]
  },
  {
   "cell_type": "code",
   "execution_count": null,
   "id": "d7fa3142",
   "metadata": {
    "ExecuteTime": {
     "end_time": "2023-09-29T09:59:38.650757Z",
     "start_time": "2023-09-29T09:59:38.650757Z"
    }
   },
   "outputs": [],
   "source": [
    "plt.close()\n",
    "\n",
    "c4 = Cube4DPolytope()\n",
    "c4.divide_edges()\n",
    "#c4.divide_edges()\n",
    "\n",
    "ecp = EightCellsPlot(c4, only_half_of_cube=True)\n",
    "num_points = c4.G.number_of_nodes() #//2\n",
    "\n",
    "p = plt.get_cmap('plasma')\n",
    "\n",
    "ecp.plot_eight_cells(save=False)\n",
    "\n",
    "\n",
    "for node_i in range(num_points): \n",
    "    ecp._plot_in_color([node_i,], color=p(node_i/num_points), all_ax=ecp.all_ax, fig=ecp.fig)\n",
    "plt.show()"
   ]
  },
  {
   "cell_type": "markdown",
   "id": "4bce4dd0",
   "metadata": {},
   "source": [
    "Because of numbering conventions, there is a \"layer\" of new nodes (bright colors) in between \"layers\" of old nodes (dark colors). The neighbours of old nodes are thus exclusively new nodes and vice versa - adjacency matrix is empty in two of the four quadrants."
   ]
  },
  {
   "cell_type": "code",
   "execution_count": null,
   "id": "4a61a33f",
   "metadata": {
    "ExecuteTime": {
     "end_time": "2023-09-29T09:59:38.652129Z",
     "start_time": "2023-09-29T09:59:38.652129Z"
    }
   },
   "outputs": [],
   "source": [
    "size_previous = 0\n",
    "for i, c4 in enumerate(all_c4):\n",
    "    adj_matrix = c4.get_polytope_adj_matrix(include_opposing_neighbours=True, only_half_of_cube=True)\n",
    "    size_previous = len(adj_matrix)"
   ]
  },
  {
   "cell_type": "markdown",
   "id": "0b331b66",
   "metadata": {},
   "source": [
    "Note: there are methods to reliably determine neighbouring relations of quaternions/orientations, see\n",
    "\n",
    "**Yershova, Anna, and Steven M. LaValle. \"Improving motion-planning algorithms by efficient nearest-neighbor searching.\" IEEE Transactions on Robotics 23.1 (2007): 151-157.**\n",
    "\n",
    "if volume/surface/distance calculations work for the limited set of cases introduced now (full divisions), I would return to adjacency problem in general case."
   ]
  },
  {
   "cell_type": "markdown",
   "id": "bb4d5b31",
   "metadata": {},
   "source": [
    "## Test: Try to do translation animation again"
   ]
  },
  {
   "cell_type": "markdown",
   "id": "74ae18ff",
   "metadata": {},
   "source": [
    "## Test: plot object in initial and adjacent orientations"
   ]
  },
  {
   "cell_type": "markdown",
   "id": "ca6d983d",
   "metadata": {},
   "source": [
    "Repeat the same plot using distances between quaternions"
   ]
  },
  {
   "cell_type": "markdown",
   "id": "19377f1f",
   "metadata": {},
   "source": [
    "## Combined Adjacency\n",
    "\n",
    "Points are adjacent if same point on position grid and neighbours on orientation grid; OR neighbours on position gris and same point on orientation grid."
   ]
  },
  {
   "cell_type": "code",
   "execution_count": null,
   "id": "47118306",
   "metadata": {
    "ExecuteTime": {
     "end_time": "2023-09-29T09:59:38.653198Z",
     "start_time": "2023-09-29T09:59:38.653198Z"
    }
   },
   "outputs": [],
   "source": [
    "n_o = 7\n",
    "n_b = 40\n",
    "fg = FullGrid(f\"fulldiv_{n_b}\", f\"ico_{n_o}\", \"linspace(1, 5, 7)\", use_saved=False)\n",
    "\n",
    "position_adjacency = fg.get_adjacency_of_position_grid().toarray()\n",
    "orientation_adjacency = fg.get_adjacency_of_orientation_grid()\n",
    "\n",
    "fig, ax = plt.subplots(1, 3, figsize=(30, 10))\n",
    "sns.heatmap(position_adjacency, cmap=\"gray\", ax=ax[0])\n",
    "sns.heatmap(orientation_adjacency, cmap=\"gray\", ax=ax[1])\n",
    "sns.heatmap(fg.get_full_adjacency().toarray(), cmap=\"gray\", ax=ax[2])\n",
    "ax[0].set_title(\"Position adjacency\")\n",
    "ax[1].set_title(\"Orientation adjacency\")\n",
    "ax[2].set_title(\"Full adjacency\")\n",
    "plt.tight_layout()\n",
    "plt.show()"
   ]
  },
  {
   "cell_type": "code",
   "execution_count": null,
   "id": "472265ba",
   "metadata": {
    "ExecuteTime": {
     "end_time": "2023-09-29T09:59:38.654303Z",
     "start_time": "2023-09-29T09:59:38.654303Z"
    }
   },
   "outputs": [],
   "source": [
    "# check some points from full adjacency matrix to show they really are/aren't neighbours\n",
    "sequence = fg.get_full_sequence()"
   ]
  },
  {
   "cell_type": "code",
   "execution_count": null,
   "id": "32cd504f",
   "metadata": {},
   "outputs": [],
   "source": []
  }
 ],
 "metadata": {
  "celltoolbar": "Initialization Cell",
  "kernelspec": {
   "display_name": "Python 3 (ipykernel)",
   "language": "python",
   "name": "python3"
  },
  "language_info": {
   "codemirror_mode": {
    "name": "ipython",
    "version": 3
   },
   "file_extension": ".py",
   "mimetype": "text/x-python",
   "name": "python",
   "nbconvert_exporter": "python",
   "pygments_lexer": "ipython3",
   "version": "3.9.13"
  },
  "notify_time": "30",
  "toc": {
   "base_numbering": 1,
   "nav_menu": {},
   "number_sections": true,
   "sideBar": true,
   "skip_h1_title": true,
   "title_cell": "Table of Contents",
   "title_sidebar": "Contents",
   "toc_cell": false,
   "toc_position": {
    "height": "1148px",
    "left": "204px",
    "top": "228px",
    "width": "316px"
   },
   "toc_section_display": true,
   "toc_window_display": true
  }
 },
 "nbformat": 4,
 "nbformat_minor": 5
}
